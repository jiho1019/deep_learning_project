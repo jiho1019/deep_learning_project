{
 "cells": [
  {
   "cell_type": "code",
   "execution_count": 2,
   "id": "9292560b",
   "metadata": {},
   "outputs": [],
   "source": [
    "import selenium\n",
    "from selenium import webdriver\n",
    "from selenium.webdriver.common.by import By\n",
    "from selenium.webdriver.common.keys import Keys\n",
    "import time"
   ]
  },
  {
   "cell_type": "code",
   "execution_count": 39,
   "id": "ef716224",
   "metadata": {},
   "outputs": [],
   "source": [
    "driver = webdriver.Chrome()\n",
    "url = \"https://www.google.com\"\n",
    "driver.get(url)                      #get()브라우저에 접근"
   ]
  },
  {
   "cell_type": "code",
   "execution_count": 40,
   "id": "5972c175",
   "metadata": {},
   "outputs": [],
   "source": [
    "elem = driver.find_element(By.CSS_SELECTOR,\"#APjFqb\")\n",
    "elem.send_keys(\"바다\")\n",
    "elem.send_keys(Keys.RETURN)"
   ]
  },
  {
   "cell_type": "code",
   "execution_count": 41,
   "id": "8ecc2c16",
   "metadata": {},
   "outputs": [],
   "source": [
    "driver.find_element(By.CSS_SELECTOR,\"#bqHHPb > div > div > div.IUOThf > a:nth-child(1) > div > span\").click()"
   ]
  },
  {
   "cell_type": "code",
   "execution_count": 42,
   "id": "033e7b6d",
   "metadata": {},
   "outputs": [],
   "source": [
    "links = []\n",
    "img = driver.find_elements(By.CSS_SELECTOR,\"img.rg_i.Q4LuWd\")\n",
    "\n",
    "elem2 = driver.find_element(By.CSS_SELECTOR,\"#yDmH0d\")\n",
    "for i in range(60):\n",
    "    elem2.send_keys(Keys.PAGE_DOWN)\n",
    "    time.sleep(0.1)"
   ]
  },
  {
   "cell_type": "code",
   "execution_count": 44,
   "id": "adc051bb",
   "metadata": {},
   "outputs": [
    {
     "ename": "ElementNotInteractableException",
     "evalue": "Message: element not interactable\n  (Session info: chrome=121.0.6167.86)\nStacktrace:\n\tGetHandleVerifier [0x00007FF703F05E42+3538674]\n\t(No symbol) [0x00007FF703B24C02]\n\t(No symbol) [0x00007FF7039D599D]\n\t(No symbol) [0x00007FF703A1D406]\n\t(No symbol) [0x00007FF703A11950]\n\t(No symbol) [0x00007FF703A3F0AA]\n\t(No symbol) [0x00007FF703A1124A]\n\t(No symbol) [0x00007FF703A3F2C0]\n\t(No symbol) [0x00007FF703A5BDE3]\n\t(No symbol) [0x00007FF703A3EE53]\n\t(No symbol) [0x00007FF703A0F514]\n\t(No symbol) [0x00007FF703A10631]\n\tGetHandleVerifier [0x00007FF703F36CAD+3738973]\n\tGetHandleVerifier [0x00007FF703F8C506+4089270]\n\tGetHandleVerifier [0x00007FF703F84823+4057299]\n\tGetHandleVerifier [0x00007FF703C55C49+720121]\n\t(No symbol) [0x00007FF703B3126F]\n\t(No symbol) [0x00007FF703B2C304]\n\t(No symbol) [0x00007FF703B2C432]\n\t(No symbol) [0x00007FF703B1BD04]\n\tBaseThreadInitThunk [0x00007FFF8BF27344+20]\n\tRtlUserThreadStart [0x00007FFF8DEA26B1+33]\n",
     "output_type": "error",
     "traceback": [
      "\u001b[1;31m---------------------------------------------------------------------------\u001b[0m",
      "\u001b[1;31mElementNotInteractableException\u001b[0m           Traceback (most recent call last)",
      "Cell \u001b[1;32mIn[44], line 1\u001b[0m\n\u001b[1;32m----> 1\u001b[0m \u001b[43mdriver\u001b[49m\u001b[38;5;241;43m.\u001b[39;49m\u001b[43mfind_element\u001b[49m\u001b[43m(\u001b[49m\u001b[43mBy\u001b[49m\u001b[38;5;241;43m.\u001b[39;49m\u001b[43mCSS_SELECTOR\u001b[49m\u001b[43m,\u001b[49m\u001b[38;5;124;43m\"\u001b[39;49m\u001b[38;5;124;43m#islmp > div > div > div > div > div.C5Hr4 > div.K414Oe > div.FAGjZe > input\u001b[39;49m\u001b[38;5;124;43m\"\u001b[39;49m\u001b[43m)\u001b[49m\u001b[38;5;241;43m.\u001b[39;49m\u001b[43mclick\u001b[49m\u001b[43m(\u001b[49m\u001b[43m)\u001b[49m\n\u001b[0;32m      3\u001b[0m links \u001b[38;5;241m=\u001b[39m []\n\u001b[0;32m      4\u001b[0m images \u001b[38;5;241m=\u001b[39m driver\u001b[38;5;241m.\u001b[39mfind_elements(By\u001b[38;5;241m.\u001b[39mCSS_SELECTOR,\u001b[38;5;124m\"\u001b[39m\u001b[38;5;124m#islrg > div.islrc > div > div > a.FRuiCf.islib.nfEiy > div.fR600b.islir > img\u001b[39m\u001b[38;5;124m\"\u001b[39m)\n",
      "File \u001b[1;32m~\\AppData\\Local\\Packages\\PythonSoftwareFoundation.Python.3.12_qbz5n2kfra8p0\\LocalCache\\local-packages\\Python312\\site-packages\\selenium\\webdriver\\remote\\webelement.py:94\u001b[0m, in \u001b[0;36mWebElement.click\u001b[1;34m(self)\u001b[0m\n\u001b[0;32m     92\u001b[0m \u001b[38;5;28;01mdef\u001b[39;00m \u001b[38;5;21mclick\u001b[39m(\u001b[38;5;28mself\u001b[39m) \u001b[38;5;241m-\u001b[39m\u001b[38;5;241m>\u001b[39m \u001b[38;5;28;01mNone\u001b[39;00m:\n\u001b[0;32m     93\u001b[0m \u001b[38;5;250m    \u001b[39m\u001b[38;5;124;03m\"\"\"Clicks the element.\"\"\"\u001b[39;00m\n\u001b[1;32m---> 94\u001b[0m     \u001b[38;5;28;43mself\u001b[39;49m\u001b[38;5;241;43m.\u001b[39;49m\u001b[43m_execute\u001b[49m\u001b[43m(\u001b[49m\u001b[43mCommand\u001b[49m\u001b[38;5;241;43m.\u001b[39;49m\u001b[43mCLICK_ELEMENT\u001b[49m\u001b[43m)\u001b[49m\n",
      "File \u001b[1;32m~\\AppData\\Local\\Packages\\PythonSoftwareFoundation.Python.3.12_qbz5n2kfra8p0\\LocalCache\\local-packages\\Python312\\site-packages\\selenium\\webdriver\\remote\\webelement.py:395\u001b[0m, in \u001b[0;36mWebElement._execute\u001b[1;34m(self, command, params)\u001b[0m\n\u001b[0;32m    393\u001b[0m     params \u001b[38;5;241m=\u001b[39m {}\n\u001b[0;32m    394\u001b[0m params[\u001b[38;5;124m\"\u001b[39m\u001b[38;5;124mid\u001b[39m\u001b[38;5;124m\"\u001b[39m] \u001b[38;5;241m=\u001b[39m \u001b[38;5;28mself\u001b[39m\u001b[38;5;241m.\u001b[39m_id\n\u001b[1;32m--> 395\u001b[0m \u001b[38;5;28;01mreturn\u001b[39;00m \u001b[38;5;28;43mself\u001b[39;49m\u001b[38;5;241;43m.\u001b[39;49m\u001b[43m_parent\u001b[49m\u001b[38;5;241;43m.\u001b[39;49m\u001b[43mexecute\u001b[49m\u001b[43m(\u001b[49m\u001b[43mcommand\u001b[49m\u001b[43m,\u001b[49m\u001b[43m \u001b[49m\u001b[43mparams\u001b[49m\u001b[43m)\u001b[49m\n",
      "File \u001b[1;32m~\\AppData\\Local\\Packages\\PythonSoftwareFoundation.Python.3.12_qbz5n2kfra8p0\\LocalCache\\local-packages\\Python312\\site-packages\\selenium\\webdriver\\remote\\webdriver.py:347\u001b[0m, in \u001b[0;36mWebDriver.execute\u001b[1;34m(self, driver_command, params)\u001b[0m\n\u001b[0;32m    345\u001b[0m response \u001b[38;5;241m=\u001b[39m \u001b[38;5;28mself\u001b[39m\u001b[38;5;241m.\u001b[39mcommand_executor\u001b[38;5;241m.\u001b[39mexecute(driver_command, params)\n\u001b[0;32m    346\u001b[0m \u001b[38;5;28;01mif\u001b[39;00m response:\n\u001b[1;32m--> 347\u001b[0m     \u001b[38;5;28;43mself\u001b[39;49m\u001b[38;5;241;43m.\u001b[39;49m\u001b[43merror_handler\u001b[49m\u001b[38;5;241;43m.\u001b[39;49m\u001b[43mcheck_response\u001b[49m\u001b[43m(\u001b[49m\u001b[43mresponse\u001b[49m\u001b[43m)\u001b[49m\n\u001b[0;32m    348\u001b[0m     response[\u001b[38;5;124m\"\u001b[39m\u001b[38;5;124mvalue\u001b[39m\u001b[38;5;124m\"\u001b[39m] \u001b[38;5;241m=\u001b[39m \u001b[38;5;28mself\u001b[39m\u001b[38;5;241m.\u001b[39m_unwrap_value(response\u001b[38;5;241m.\u001b[39mget(\u001b[38;5;124m\"\u001b[39m\u001b[38;5;124mvalue\u001b[39m\u001b[38;5;124m\"\u001b[39m, \u001b[38;5;28;01mNone\u001b[39;00m))\n\u001b[0;32m    349\u001b[0m     \u001b[38;5;28;01mreturn\u001b[39;00m response\n",
      "File \u001b[1;32m~\\AppData\\Local\\Packages\\PythonSoftwareFoundation.Python.3.12_qbz5n2kfra8p0\\LocalCache\\local-packages\\Python312\\site-packages\\selenium\\webdriver\\remote\\errorhandler.py:229\u001b[0m, in \u001b[0;36mErrorHandler.check_response\u001b[1;34m(self, response)\u001b[0m\n\u001b[0;32m    227\u001b[0m         alert_text \u001b[38;5;241m=\u001b[39m value[\u001b[38;5;124m\"\u001b[39m\u001b[38;5;124malert\u001b[39m\u001b[38;5;124m\"\u001b[39m]\u001b[38;5;241m.\u001b[39mget(\u001b[38;5;124m\"\u001b[39m\u001b[38;5;124mtext\u001b[39m\u001b[38;5;124m\"\u001b[39m)\n\u001b[0;32m    228\u001b[0m     \u001b[38;5;28;01mraise\u001b[39;00m exception_class(message, screen, stacktrace, alert_text)  \u001b[38;5;66;03m# type: ignore[call-arg]  # mypy is not smart enough here\u001b[39;00m\n\u001b[1;32m--> 229\u001b[0m \u001b[38;5;28;01mraise\u001b[39;00m exception_class(message, screen, stacktrace)\n",
      "\u001b[1;31mElementNotInteractableException\u001b[0m: Message: element not interactable\n  (Session info: chrome=121.0.6167.86)\nStacktrace:\n\tGetHandleVerifier [0x00007FF703F05E42+3538674]\n\t(No symbol) [0x00007FF703B24C02]\n\t(No symbol) [0x00007FF7039D599D]\n\t(No symbol) [0x00007FF703A1D406]\n\t(No symbol) [0x00007FF703A11950]\n\t(No symbol) [0x00007FF703A3F0AA]\n\t(No symbol) [0x00007FF703A1124A]\n\t(No symbol) [0x00007FF703A3F2C0]\n\t(No symbol) [0x00007FF703A5BDE3]\n\t(No symbol) [0x00007FF703A3EE53]\n\t(No symbol) [0x00007FF703A0F514]\n\t(No symbol) [0x00007FF703A10631]\n\tGetHandleVerifier [0x00007FF703F36CAD+3738973]\n\tGetHandleVerifier [0x00007FF703F8C506+4089270]\n\tGetHandleVerifier [0x00007FF703F84823+4057299]\n\tGetHandleVerifier [0x00007FF703C55C49+720121]\n\t(No symbol) [0x00007FF703B3126F]\n\t(No symbol) [0x00007FF703B2C304]\n\t(No symbol) [0x00007FF703B2C432]\n\t(No symbol) [0x00007FF703B1BD04]\n\tBaseThreadInitThunk [0x00007FFF8BF27344+20]\n\tRtlUserThreadStart [0x00007FFF8DEA26B1+33]\n"
     ]
    }
   ],
   "source": [
    "driver.find_element(By.CSS_SELECTOR,\"#islmp > div > div > div > div > div.C5Hr4 > div.K414Oe > div.FAGjZe > input\").click()\n",
    "\n",
    "links = []\n",
    "images = driver.find_elements(By.CSS_SELECTOR,\"#islrg > div.islrc > div > div > a.FRuiCf.islib.nfEiy > div.fR600b.islir > img\")\n",
    "\n",
    "for image in images:\n",
    "    if image.get_attribute(\"src\") is not None:\n",
    "        links.append(image.get_attribute('src'))\n",
    "        \n",
    "print(\"찾은 이미지 개수:\",len(links))"
   ]
  },
  {
   "cell_type": "code",
   "execution_count": null,
   "id": "80ecb978",
   "metadata": {},
   "outputs": [],
   "source": [
    "#islrg > div.islrc > div:nth-child(56) > div:nth-child(99) > a.FRuiCf.islib.nfEiy > div.fR600b.islir > img"
   ]
  },
  {
   "cell_type": "code",
   "execution_count": null,
   "id": "78dcc13f",
   "metadata": {},
   "outputs": [],
   "source": []
  },
  {
   "cell_type": "code",
   "execution_count": null,
   "id": "51c631e9",
   "metadata": {},
   "outputs": [],
   "source": []
  }
 ],
 "metadata": {
  "kernelspec": {
   "display_name": "Python 3 (ipykernel)",
   "language": "python",
   "name": "python3"
  },
  "language_info": {
   "codemirror_mode": {
    "name": "ipython",
    "version": 3
   },
   "file_extension": ".py",
   "mimetype": "text/x-python",
   "name": "python",
   "nbconvert_exporter": "python",
   "pygments_lexer": "ipython3",
   "version": "3.12.1"
  }
 },
 "nbformat": 4,
 "nbformat_minor": 5
}
